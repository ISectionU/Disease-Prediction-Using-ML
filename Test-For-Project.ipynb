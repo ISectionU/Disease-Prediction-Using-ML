{
 "cells": [
  {
   "cell_type": "markdown",
   "id": "c9eab8fd-77f2-4d8f-95c0-5fa6dd96be65",
   "metadata": {},
   "source": [
    "# Placeholder Jupyter Notebook file"
   ]
  },
  {
   "cell_type": "code",
   "execution_count": 1,
   "id": "5935b5ef-be3c-4bc8-8baa-c5d57391756d",
   "metadata": {},
   "outputs": [],
   "source": [
    "#code placeholde"
   ]
  },
  {
   "cell_type": "code",
   "execution_count": null,
   "id": "2f28ffd3-a06e-4612-a34a-8b93c01fcb23",
   "metadata": {},
   "outputs": [],
   "source": []
  }
 ],
 "metadata": {
  "kernelspec": {
   "display_name": "Python 3 (ipykernel)",
   "language": "python",
   "name": "python3"
  },
  "language_info": {
   "codemirror_mode": {
    "name": "ipython",
    "version": 3
   },
   "file_extension": ".py",
   "mimetype": "text/x-python",
   "name": "python",
   "nbconvert_exporter": "python",
   "pygments_lexer": "ipython3",
   "version": "3.12.9"
  }
 },
 "nbformat": 4,
 "nbformat_minor": 5
}
